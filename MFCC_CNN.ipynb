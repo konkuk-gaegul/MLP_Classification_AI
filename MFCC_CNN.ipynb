{
  "nbformat": 4,
  "nbformat_minor": 0,
  "metadata": {
    "colab": {
      "name": "MFCC_CNN.ipynb",
      "provenance": [],
      "collapsed_sections": [],
      "machine_shape": "hm",
      "authorship_tag": "ABX9TyMS9sDKl33OBihF6hJOzPpL",
      "include_colab_link": true
    },
    "kernelspec": {
      "name": "python3",
      "display_name": "Python 3"
    },
    "language_info": {
      "name": "python"
    },
    "gpuClass": "standard"
  },
  "cells": [
    {
      "cell_type": "markdown",
      "metadata": {
        "id": "view-in-github",
        "colab_type": "text"
      },
      "source": [
        "<a href=\"https://colab.research.google.com/github/konkuk-gaegul/MLP_Classification_AI/blob/main/MFCC_CNN.ipynb\" target=\"_parent\"><img src=\"https://colab.research.google.com/assets/colab-badge.svg\" alt=\"Open In Colab\"/></a>"
      ]
    },
    {
      "cell_type": "markdown",
      "source": [
        "# 라이브러리"
      ],
      "metadata": {
        "id": "5lkTSNetYk8s"
      }
    },
    {
      "cell_type": "code",
      "source": [
        "import random\n",
        "import pandas as pd\n",
        "import numpy as np\n",
        "import os\n",
        "import librosa\n",
        "import copy, os, shutil\n",
        "import matplotlib as plt\n",
        "\n",
        "import matplotlib\n",
        "import matplotlib.pyplot as plt\n",
        "\n",
        "from tqdm.auto import tqdm\n",
        "\n",
        "from sklearn.neural_network import MLPClassifier\n",
        "from sklearn.preprocessing import OneHotEncoder\n",
        "\n",
        "import warnings\n",
        "warnings.filterwarnings(action='ignore') "
      ],
      "metadata": {
        "id": "IOFngV2KhQ5T"
      },
      "execution_count": null,
      "outputs": []
    },
    {
      "cell_type": "code",
      "source": [
        "# 폰트 설정을 위한 라이브러리 임포트\n",
        "from matplotlib import font_manager, rcParams\n",
        "\n",
        "# 한글 표현이 가능한 폰트를 설치\n",
        "!apt-get install fonts-nanum*\n",
        "font_manager.findSystemFonts(fontext='ttf')\n",
        "font_manager.FontProperties( fname='/usr/share/fonts/truetype/nanum/NanumGothicCoding.ttf').get_name()\n",
        "\n",
        "# 폰트를 변경\n",
        "rcParams['font.family'] = 'NanumGothicCoding'\n",
        "\n",
        "# - 부호도 깨져서 나오기 때문에, 같이 설정\n",
        "rcParams['axes.unicode_minus'] = False\n",
        "\n",
        "# 설정을 변경했으면, rebuild를 통해서 변경된 설정을 적용\n",
        "font_manager._rebuild()"
      ],
      "metadata": {
        "id": "MY-mAlDzwaNG"
      },
      "execution_count": null,
      "outputs": []
    },
    {
      "cell_type": "code",
      "source": [
        "# train data upload\n",
        "train = pd.read_csv('mfcc_data_folder/train_mfcc_data_32.csv')\n",
        "train.head(2)\n",
        "test = pd.read_csv('mfcc_data_folder/test_mfcc_data_32.csv')\n",
        "test.head(2)"
      ],
      "metadata": {
        "colab": {
          "base_uri": "https://localhost:8080/",
          "height": 205
        },
        "id": "6yEyCq-XhF_0",
        "outputId": "70e82284-6bc4-4866-b532-ea9be2902f40"
      },
      "execution_count": null,
      "outputs": [
        {
          "output_type": "execute_result",
          "data": {
            "text/plain": [
              "     id  age  gender  respiratory_condition  fever_or_muscle_pain    mfcc_1  \\\n",
              "0  3806   48  female                      1                     0 -619.9879   \n",
              "1  3807   24  female                      0                     0 -493.6057   \n",
              "\n",
              "     mfcc_2    mfcc_3    mfcc_4    mfcc_5  ...   mfcc_23   mfcc_24   mfcc_25  \\\n",
              "0  9.328649  0.821094  2.373343 -0.171163  ... -0.313271 -0.053711 -0.029855   \n",
              "1  8.492651 -2.758262 -2.801817 -2.770231  ... -0.677968 -0.643835 -0.822677   \n",
              "\n",
              "    mfcc_26   mfcc_27   mfcc_28   mfcc_29   mfcc_30   mfcc_31   mfcc_32  \n",
              "0  0.043562 -0.405293 -0.246975 -0.110937  0.019196 -0.155829 -0.130705  \n",
              "1 -0.113844 -1.210391  0.273594 -0.685921  0.440101 -0.960277  0.371881  \n",
              "\n",
              "[2 rows x 37 columns]"
            ],
            "text/html": [
              "\n",
              "  <div id=\"df-794cbe90-ad97-4a4e-8468-dd63db9bf2b9\">\n",
              "    <div class=\"colab-df-container\">\n",
              "      <div>\n",
              "<style scoped>\n",
              "    .dataframe tbody tr th:only-of-type {\n",
              "        vertical-align: middle;\n",
              "    }\n",
              "\n",
              "    .dataframe tbody tr th {\n",
              "        vertical-align: top;\n",
              "    }\n",
              "\n",
              "    .dataframe thead th {\n",
              "        text-align: right;\n",
              "    }\n",
              "</style>\n",
              "<table border=\"1\" class=\"dataframe\">\n",
              "  <thead>\n",
              "    <tr style=\"text-align: right;\">\n",
              "      <th></th>\n",
              "      <th>id</th>\n",
              "      <th>age</th>\n",
              "      <th>gender</th>\n",
              "      <th>respiratory_condition</th>\n",
              "      <th>fever_or_muscle_pain</th>\n",
              "      <th>mfcc_1</th>\n",
              "      <th>mfcc_2</th>\n",
              "      <th>mfcc_3</th>\n",
              "      <th>mfcc_4</th>\n",
              "      <th>mfcc_5</th>\n",
              "      <th>...</th>\n",
              "      <th>mfcc_23</th>\n",
              "      <th>mfcc_24</th>\n",
              "      <th>mfcc_25</th>\n",
              "      <th>mfcc_26</th>\n",
              "      <th>mfcc_27</th>\n",
              "      <th>mfcc_28</th>\n",
              "      <th>mfcc_29</th>\n",
              "      <th>mfcc_30</th>\n",
              "      <th>mfcc_31</th>\n",
              "      <th>mfcc_32</th>\n",
              "    </tr>\n",
              "  </thead>\n",
              "  <tbody>\n",
              "    <tr>\n",
              "      <th>0</th>\n",
              "      <td>3806</td>\n",
              "      <td>48</td>\n",
              "      <td>female</td>\n",
              "      <td>1</td>\n",
              "      <td>0</td>\n",
              "      <td>-619.9879</td>\n",
              "      <td>9.328649</td>\n",
              "      <td>0.821094</td>\n",
              "      <td>2.373343</td>\n",
              "      <td>-0.171163</td>\n",
              "      <td>...</td>\n",
              "      <td>-0.313271</td>\n",
              "      <td>-0.053711</td>\n",
              "      <td>-0.029855</td>\n",
              "      <td>0.043562</td>\n",
              "      <td>-0.405293</td>\n",
              "      <td>-0.246975</td>\n",
              "      <td>-0.110937</td>\n",
              "      <td>0.019196</td>\n",
              "      <td>-0.155829</td>\n",
              "      <td>-0.130705</td>\n",
              "    </tr>\n",
              "    <tr>\n",
              "      <th>1</th>\n",
              "      <td>3807</td>\n",
              "      <td>24</td>\n",
              "      <td>female</td>\n",
              "      <td>0</td>\n",
              "      <td>0</td>\n",
              "      <td>-493.6057</td>\n",
              "      <td>8.492651</td>\n",
              "      <td>-2.758262</td>\n",
              "      <td>-2.801817</td>\n",
              "      <td>-2.770231</td>\n",
              "      <td>...</td>\n",
              "      <td>-0.677968</td>\n",
              "      <td>-0.643835</td>\n",
              "      <td>-0.822677</td>\n",
              "      <td>-0.113844</td>\n",
              "      <td>-1.210391</td>\n",
              "      <td>0.273594</td>\n",
              "      <td>-0.685921</td>\n",
              "      <td>0.440101</td>\n",
              "      <td>-0.960277</td>\n",
              "      <td>0.371881</td>\n",
              "    </tr>\n",
              "  </tbody>\n",
              "</table>\n",
              "<p>2 rows × 37 columns</p>\n",
              "</div>\n",
              "      <button class=\"colab-df-convert\" onclick=\"convertToInteractive('df-794cbe90-ad97-4a4e-8468-dd63db9bf2b9')\"\n",
              "              title=\"Convert this dataframe to an interactive table.\"\n",
              "              style=\"display:none;\">\n",
              "        \n",
              "  <svg xmlns=\"http://www.w3.org/2000/svg\" height=\"24px\"viewBox=\"0 0 24 24\"\n",
              "       width=\"24px\">\n",
              "    <path d=\"M0 0h24v24H0V0z\" fill=\"none\"/>\n",
              "    <path d=\"M18.56 5.44l.94 2.06.94-2.06 2.06-.94-2.06-.94-.94-2.06-.94 2.06-2.06.94zm-11 1L8.5 8.5l.94-2.06 2.06-.94-2.06-.94L8.5 2.5l-.94 2.06-2.06.94zm10 10l.94 2.06.94-2.06 2.06-.94-2.06-.94-.94-2.06-.94 2.06-2.06.94z\"/><path d=\"M17.41 7.96l-1.37-1.37c-.4-.4-.92-.59-1.43-.59-.52 0-1.04.2-1.43.59L10.3 9.45l-7.72 7.72c-.78.78-.78 2.05 0 2.83L4 21.41c.39.39.9.59 1.41.59.51 0 1.02-.2 1.41-.59l7.78-7.78 2.81-2.81c.8-.78.8-2.07 0-2.86zM5.41 20L4 18.59l7.72-7.72 1.47 1.35L5.41 20z\"/>\n",
              "  </svg>\n",
              "      </button>\n",
              "      \n",
              "  <style>\n",
              "    .colab-df-container {\n",
              "      display:flex;\n",
              "      flex-wrap:wrap;\n",
              "      gap: 12px;\n",
              "    }\n",
              "\n",
              "    .colab-df-convert {\n",
              "      background-color: #E8F0FE;\n",
              "      border: none;\n",
              "      border-radius: 50%;\n",
              "      cursor: pointer;\n",
              "      display: none;\n",
              "      fill: #1967D2;\n",
              "      height: 32px;\n",
              "      padding: 0 0 0 0;\n",
              "      width: 32px;\n",
              "    }\n",
              "\n",
              "    .colab-df-convert:hover {\n",
              "      background-color: #E2EBFA;\n",
              "      box-shadow: 0px 1px 2px rgba(60, 64, 67, 0.3), 0px 1px 3px 1px rgba(60, 64, 67, 0.15);\n",
              "      fill: #174EA6;\n",
              "    }\n",
              "\n",
              "    [theme=dark] .colab-df-convert {\n",
              "      background-color: #3B4455;\n",
              "      fill: #D2E3FC;\n",
              "    }\n",
              "\n",
              "    [theme=dark] .colab-df-convert:hover {\n",
              "      background-color: #434B5C;\n",
              "      box-shadow: 0px 1px 3px 1px rgba(0, 0, 0, 0.15);\n",
              "      filter: drop-shadow(0px 1px 2px rgba(0, 0, 0, 0.3));\n",
              "      fill: #FFFFFF;\n",
              "    }\n",
              "  </style>\n",
              "\n",
              "      <script>\n",
              "        const buttonEl =\n",
              "          document.querySelector('#df-794cbe90-ad97-4a4e-8468-dd63db9bf2b9 button.colab-df-convert');\n",
              "        buttonEl.style.display =\n",
              "          google.colab.kernel.accessAllowed ? 'block' : 'none';\n",
              "\n",
              "        async function convertToInteractive(key) {\n",
              "          const element = document.querySelector('#df-794cbe90-ad97-4a4e-8468-dd63db9bf2b9');\n",
              "          const dataTable =\n",
              "            await google.colab.kernel.invokeFunction('convertToInteractive',\n",
              "                                                     [key], {});\n",
              "          if (!dataTable) return;\n",
              "\n",
              "          const docLinkHtml = 'Like what you see? Visit the ' +\n",
              "            '<a target=\"_blank\" href=https://colab.research.google.com/notebooks/data_table.ipynb>data table notebook</a>'\n",
              "            + ' to learn more about interactive tables.';\n",
              "          element.innerHTML = '';\n",
              "          dataTable['output_type'] = 'display_data';\n",
              "          await google.colab.output.renderOutput(dataTable, element);\n",
              "          const docLink = document.createElement('div');\n",
              "          docLink.innerHTML = docLinkHtml;\n",
              "          element.appendChild(docLink);\n",
              "        }\n",
              "      </script>\n",
              "    </div>\n",
              "  </div>\n",
              "  "
            ]
          },
          "metadata": {},
          "execution_count": 125
        }
      ]
    },
    {
      "cell_type": "code",
      "source": [
        "# gender : OHE 처리\n",
        "def onehot_encoding(ohe, x):\n",
        "    # 학습데이터로 부터 fit된 one-hot encoder (ohe)를 받아 transform 시켜주는 함수\n",
        "    encoded = ohe.transform(x['gender'].values.reshape(-1,1))\n",
        "    encoded_df = pd.DataFrame(encoded, columns=ohe.categories_[0])\n",
        "    x = pd.concat([x.drop(columns=['gender']), encoded_df], axis=1)\n",
        "    x.drop( columns = 'id', inplace = True)\n",
        "    return x"
      ],
      "metadata": {
        "id": "h2hjCfbrhLJT"
      },
      "execution_count": null,
      "outputs": []
    },
    {
      "cell_type": "code",
      "source": [
        "# 'gender' column의 경우 추가 전처리가 필요 -> OneHotEncoder 적용\n",
        "ohe = OneHotEncoder(sparse=False)\n",
        "ohe.fit(train['gender'].values.reshape(-1,1))\n",
        "\n",
        "train = onehot_encoding(ohe, train)\n",
        "test = onehot_encoding(ohe, test)"
      ],
      "metadata": {
        "id": "BBOfRvJThLyH"
      },
      "execution_count": null,
      "outputs": []
    },
    {
      "cell_type": "code",
      "source": [
        "# train_test_split\n",
        "from sklearn.model_selection import train_test_split\n",
        "\n",
        "x_train, x_val, y_train, y_val = train_test_split(train.drop(columns = 'covid19') , train.covid19 , test_size=0.3)\n",
        "\n",
        "# print('학습시킬 train 셋 : ', train_X.shape, train_y.shape)\n",
        "# print('검증할 val 셋 : ', test_X.shape, test_y.shape)"
      ],
      "metadata": {
        "colab": {
          "base_uri": "https://localhost:8080/"
        },
        "id": "lBqg4oVuhLwZ",
        "outputId": "117d8e2d-6f2c-4905-a206-44b3b1997165"
      },
      "execution_count": null,
      "outputs": [
        {
          "output_type": "stream",
          "name": "stdout",
          "text": [
            "학습시킬 train 셋 :  (2663, 38) (2663,)\n",
            "검증할 val 셋 :  (1142, 38) (1142,)\n"
          ]
        }
      ]
    },
    {
      "cell_type": "code",
      "source": [
        ""
      ],
      "metadata": {
        "id": "2mDpx5QGOe-t"
      },
      "execution_count": null,
      "outputs": []
    },
    {
      "cell_type": "code",
      "source": [
        ""
      ],
      "metadata": {
        "id": "TtszKAkZOe8g"
      },
      "execution_count": null,
      "outputs": []
    },
    {
      "cell_type": "code",
      "source": [
        ""
      ],
      "metadata": {
        "id": "7oLY_dCgOe6c"
      },
      "execution_count": null,
      "outputs": []
    },
    {
      "cell_type": "code",
      "source": [
        ""
      ],
      "metadata": {
        "id": "yIqphePBOe4R"
      },
      "execution_count": null,
      "outputs": []
    },
    {
      "cell_type": "code",
      "source": [
        ""
      ],
      "metadata": {
        "id": "7eMeXytaO7gP"
      },
      "execution_count": null,
      "outputs": []
    },
    {
      "cell_type": "code",
      "source": [
        ""
      ],
      "metadata": {
        "id": "PM98jEqSO7em"
      },
      "execution_count": null,
      "outputs": []
    },
    {
      "cell_type": "code",
      "source": [
        ""
      ],
      "metadata": {
        "id": "kQMa5wpwO7cv"
      },
      "execution_count": null,
      "outputs": []
    },
    {
      "cell_type": "code",
      "source": [
        ""
      ],
      "metadata": {
        "id": "FRIBftxAO7af"
      },
      "execution_count": null,
      "outputs": []
    }
  ]
}